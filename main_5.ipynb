{
 "cells": [
  {
   "attachments": {},
   "cell_type": "markdown",
   "metadata": {},
   "source": [
    "# Imports:"
   ]
  },
  {
   "cell_type": "code",
   "execution_count": null,
   "metadata": {},
   "outputs": [],
   "source": [
    "from pathlib import Path\n",
    "\n",
    "from common import CosenoidSignal, Audio\n",
    "from dsb_modulation import ModulatedSignal as DSBModulation\n",
    "\n",
    "AUDIO_PATH = Path(r'toy_train_whistle.wav')"
   ]
  },
  {
   "attachments": {},
   "cell_type": "markdown",
   "metadata": {},
   "source": [
    "# 5) Modulação AM-SSB de um sinal senoidal $m(t) = \\sin{\\left( 2 \\pi f_m t \\right)}$:"
   ]
  }
 ],
 "metadata": {
  "kernelspec": {
   "display_name": "my_studies",
   "language": "python",
   "name": "python3"
  },
  "language_info": {
   "name": "python",
   "version": "3.10.3"
  },
  "orig_nbformat": 4
 },
 "nbformat": 4,
 "nbformat_minor": 2
}
