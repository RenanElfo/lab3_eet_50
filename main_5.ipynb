{
 "cells": [
  {
   "attachments": {},
   "cell_type": "markdown",
   "metadata": {},
   "source": [
    "# Imports:"
   ]
  },
  {
   "cell_type": "code",
   "execution_count": null,
   "metadata": {},
   "outputs": [],
   "source": [
    "from common import CosenoidSignal\n",
    "from modulation import SSBModulatedSignal"
   ]
  },
  {
   "attachments": {},
   "cell_type": "markdown",
   "metadata": {},
   "source": [
    "# 5) Modulação AM-SSB de um sinal cossenoidal $m(t) = A_m \\cos{\\left( 2 \\pi f_m t + \\phi_m \\right)}$:"
   ]
  },
  {
   "attachments": {},
   "cell_type": "markdown",
   "metadata": {},
   "source": [
    "Sinal cossenoindal no tempo e na frequência:"
   ]
  },
  {
   "cell_type": "code",
   "execution_count": null,
   "metadata": {},
   "outputs": [],
   "source": [
    "COSENOID_FREQUENCY = 30  # Hertz\n",
    "SAMPLE_RATE = 100_000  # Hertz\n",
    "SAMPLE_LENGTH = 0.2  # seconds\n",
    "COSENOID_AMPLITUDE = 1\n",
    "COSENOID_PHASE = 0  # degrees\n",
    "\n",
    "senoid_signal = CosenoidSignal(COSENOID_FREQUENCY, SAMPLE_RATE, SAMPLE_LENGTH,\n",
    "                      amplitude=COSENOID_AMPLITUDE, phase=COSENOID_PHASE)\n",
    "senoid_signal.signal.plot_data()\n",
    "senoid_signal.signal.plot_fourier(start_index=0, end_index=20)"
   ]
  },
  {
   "attachments": {},
   "cell_type": "markdown",
   "metadata": {},
   "source": [
    "Portadora $c(t) = A_c \\cos{\\left( 2 \\pi f_c t + \\phi_c \\right)}$:"
   ]
  },
  {
   "cell_type": "code",
   "execution_count": null,
   "metadata": {},
   "outputs": [],
   "source": [
    "CARRIER_FREQUENCY = 200  # Hertz\n",
    "CARRIER_AMPLITUDE = 1\n",
    "CARRIER_PHASE = 0  # degrees\n",
    "\n",
    "carrier = CosenoidSignal(CARRIER_FREQUENCY, SAMPLE_RATE, SAMPLE_LENGTH,\n",
    "                       amplitude=CARRIER_AMPLITUDE, phase=CARRIER_PHASE)\n",
    "carrier.signal.plot_data()\n",
    "carrier.signal.plot_fourier(start_index=30, end_index=50)"
   ]
  },
  {
   "attachments": {},
   "cell_type": "markdown",
   "metadata": {},
   "source": [
    "Sinal modulado $s(t) = m(t) A_c \\cos{\\left( 2 \\pi f_c t \\right)} \\pm m_{\\mathcal{H}} A_c \\sin{\\left( 2 \\pi f_c t \\right)}$. O valor positivo ocorrerá para modulação AM-SSB-LSB e o valor negativo ocorrerá para modulação AM-SSB-USB:"
   ]
  },
  {
   "cell_type": "code",
   "execution_count": null,
   "metadata": {},
   "outputs": [],
   "source": [
    "COHERENT_FILTER_ORDER = 7\n",
    "COHERENT_CUTOFF_FREQUENCY = 100\n",
    "MODULATION_TYPE = 'LSB'\n",
    "\n",
    "dsb_modulated_signal = SSBModulatedSignal(\n",
    "    senoid_signal, carrier, MODULATION_TYPE,\n",
    "    COHERENT_FILTER_ORDER, COHERENT_CUTOFF_FREQUENCY\n",
    "    )\n",
    "dsb_modulated_signal.modulated.plot_data()\n",
    "dsb_modulated_signal.modulated.plot_fourier(start_index=30, end_index=50)"
   ]
  },
  {
   "attachments": {},
   "cell_type": "markdown",
   "metadata": {},
   "source": [
    "Demodulação:"
   ]
  },
  {
   "cell_type": "code",
   "execution_count": null,
   "metadata": {},
   "outputs": [],
   "source": [
    "dsb_modulated_signal.demodulated.plot_data()\n",
    "dsb_modulated_signal.demodulated.plot_fourier(start_index=0, end_index=30)"
   ]
  }
 ],
 "metadata": {
  "kernelspec": {
   "display_name": "my_studies",
   "language": "python",
   "name": "python3"
  },
  "language_info": {
   "codemirror_mode": {
    "name": "ipython",
    "version": 3
   },
   "file_extension": ".py",
   "mimetype": "text/x-python",
   "name": "python",
   "nbconvert_exporter": "python",
   "pygments_lexer": "ipython3",
   "version": "3.10.3"
  },
  "orig_nbformat": 4
 },
 "nbformat": 4,
 "nbformat_minor": 2
}
