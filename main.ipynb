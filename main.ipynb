{
 "cells": [
  {
   "attachments": {},
   "cell_type": "markdown",
   "metadata": {},
   "source": [
    "# Imports:"
   ]
  },
  {
   "cell_type": "code",
   "execution_count": null,
   "metadata": {},
   "outputs": [],
   "source": [
    "from pathlib import Path\n",
    "\n",
    "from common import SenoidSignal, Audio\n",
    "from dsb_modulation import ModulatedSignal as DSBModulation\n",
    "\n",
    "AUDIO_PATH = Path(r'toy_train_whistle.wav')"
   ]
  },
  {
   "attachments": {},
   "cell_type": "markdown",
   "metadata": {},
   "source": [
    "# 1) Modulação AM-DSB de um sinal senoidal $m(t) = A_c \\sin{\\left( 2 \\pi f_m t + \\phi_0 \\right)}$:"
   ]
  },
  {
   "cell_type": "code",
   "execution_count": null,
   "metadata": {},
   "outputs": [],
   "source": [
    "SENOID_FREQUENCY = 30  # Hertz\n",
    "SAMPLE_RATE = 100_000  # Hertz\n",
    "SAMPLE_LENGTH = 0.2  # seconds\n",
    "SENOID_AMPLITUDE = 1\n",
    "SENOID_PHASE = 0  # degrees\n",
    "\n",
    "senoid_signal = SenoidSignal(SENOID_FREQUENCY, SAMPLE_RATE, SAMPLE_LENGTH,\n",
    "                      amplitude=SENOID_AMPLITUDE, phase=SENOID_PHASE)\n",
    "senoid_signal.signal.plot_data()\n",
    "senoid_signal.signal.plot_fourier(start_index=0, end_index=20)"
   ]
  },
  {
   "cell_type": "code",
   "execution_count": null,
   "metadata": {},
   "outputs": [],
   "source": [
    "CARRIER_FREQUENCY = 200  # Hertz\n",
    "CARRIER_AMPLITUDE = 1\n",
    "CARRIER_PHASE = 0  # degrees\n",
    "\n",
    "carrier = SenoidSignal(CARRIER_FREQUENCY, SAMPLE_RATE, SAMPLE_LENGTH,\n",
    "                       amplitude=CARRIER_AMPLITUDE, phase=CARRIER_PHASE)\n",
    "carrier.signal.plot_data()\n",
    "carrier.signal.plot_fourier(start_index=30, end_index=50)"
   ]
  },
  {
   "cell_type": "code",
   "execution_count": null,
   "metadata": {},
   "outputs": [],
   "source": [
    "K_A = 10\n",
    "\n",
    "dsb_modulated_signal = DSBModulation(senoid_signal, carrier, K_A)\n",
    "dsb_modulated_signal.modulated.plot_data()\n",
    "dsb_modulated_signal.modulated.plot_fourier(start_index=30, end_index=50)"
   ]
  },
  {
   "attachments": {},
   "cell_type": "markdown",
   "metadata": {},
   "source": [
    "# Aplicação da modulação AM-DSB acima para um sinal de áudio:"
   ]
  },
  {
   "cell_type": "code",
   "execution_count": null,
   "metadata": {},
   "outputs": [],
   "source": [
    "INTERPOLATION_SCALE_FACTOR = 10\n",
    "train_whistle = Audio(AUDIO_PATH, INTERPOLATION_SCALE_FACTOR)"
   ]
  },
  {
   "cell_type": "code",
   "execution_count": null,
   "metadata": {},
   "outputs": [],
   "source": [
    "train_whistle.signal.plot_data(start_index=0, end_index=-1)\n",
    "train_whistle.signal.plot_fourier(start_index=0, end_index=1000)"
   ]
  },
  {
   "cell_type": "code",
   "execution_count": null,
   "metadata": {},
   "outputs": [],
   "source": [
    "CARRIER_FREQUENCY = 200_000  # Hertz\n",
    "CARRIER_AMPLITUDE = 1\n",
    "CARRIER_PHASE = 0  # degrees\n",
    "\n",
    "train_carrier = SenoidSignal(CARRIER_FREQUENCY,\n",
    "                             train_whistle.signal.sample_rate,\n",
    "                             train_whistle.signal.length,\n",
    "                             amplitude=CARRIER_AMPLITUDE,\n",
    "                             phase=CARRIER_PHASE)\n",
    "train_carrier.signal.plot_data(start_index=0, end_index=100)\n",
    "train_carrier.signal.plot_fourier(start_index=0, end_index=-1)"
   ]
  },
  {
   "attachments": {},
   "cell_type": "markdown",
   "metadata": {},
   "source": [
    "Para demodulação não-coerente, temos que ter $1 + k_a m(t) \\geq 0, \\forall t$. Como o valor mínimo de $m(t)$ é negativo, teremos o valor máximo de $k_a$ tal que $\\displaystyle \\max{\\left( k_{a} \\right)} = - \\frac{1}{\\min{\\left[ m(t) \\right]}}$."
   ]
  },
  {
   "cell_type": "code",
   "execution_count": null,
   "metadata": {},
   "outputs": [],
   "source": [
    "k_a_max = - 1 / train_whistle.signal.data_array.min()\n",
    "k_a = 0.8 * k_a_max\n",
    "modulated_whistle = DSBModulation(train_whistle, train_carrier, k_a)"
   ]
  },
  {
   "cell_type": "code",
   "execution_count": null,
   "metadata": {},
   "outputs": [],
   "source": [
    "modulated_whistle.modulated.plot_data(start_index=20000, end_index=22000)\n",
    "modulated_whistle.modulated.plot_fourier(start_index=0, end_index=-1)"
   ]
  },
  {
   "attachments": {},
   "cell_type": "markdown",
   "metadata": {},
   "source": [
    "# Modulação AM-DSB-SC de um sinal senoidal $m(t) = \\sin{\\left( 2 \\pi f_m t \\right)}$:"
   ]
  },
  {
   "attachments": {},
   "cell_type": "markdown",
   "metadata": {},
   "source": [
    "# Aplicação da modulação AM-DSB-SC acima para um sinal de áudio:"
   ]
  },
  {
   "attachments": {},
   "cell_type": "markdown",
   "metadata": {},
   "source": [
    "# Modulação AM-SSB de um sinal senoidal $m(t) = \\sin{\\left( 2 \\pi f_m t \\right)}$:"
   ]
  },
  {
   "attachments": {},
   "cell_type": "markdown",
   "metadata": {},
   "source": [
    "# Aplicação da modulação AM-SSB acima para um sinal de áudio:"
   ]
  }
 ],
 "metadata": {
  "kernelspec": {
   "display_name": "Python 3",
   "language": "python",
   "name": "python3"
  },
  "language_info": {
   "codemirror_mode": {
    "name": "ipython",
    "version": 3
   },
   "file_extension": ".py",
   "mimetype": "text/x-python",
   "name": "python",
   "nbconvert_exporter": "python",
   "pygments_lexer": "ipython3",
   "version": "3.10.3"
  },
  "orig_nbformat": 4
 },
 "nbformat": 4,
 "nbformat_minor": 2
}
