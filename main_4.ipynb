{
 "cells": [
  {
   "attachments": {},
   "cell_type": "markdown",
   "metadata": {},
   "source": [
    "# Imports:"
   ]
  },
  {
   "cell_type": "code",
   "execution_count": null,
   "metadata": {},
   "outputs": [],
   "source": [
    "from pathlib import Path\n",
    "\n",
    "from common import CosenoidSignal, Audio\n",
    "from modulation import DSBSCModulatedSignal\n",
    "\n",
    "AUDIO_PATH = Path(r'toy_train_whistle.wav')"
   ]
  },
  {
   "attachments": {},
   "cell_type": "markdown",
   "metadata": {},
   "source": [
    "# 4) Aplicação da modulação AM-DSB-SC acima para um sinal de áudio:"
   ]
  },
  {
   "cell_type": "code",
   "execution_count": null,
   "metadata": {},
   "outputs": [],
   "source": [
    "INTERPOLATION_SCALE_FACTOR = 10\n",
    "train_whistle = Audio(AUDIO_PATH, INTERPOLATION_SCALE_FACTOR)"
   ]
  },
  {
   "cell_type": "code",
   "execution_count": null,
   "metadata": {},
   "outputs": [],
   "source": [
    "train_whistle.signal.plot_data(start_index=0, end_index=-1)\n",
    "train_whistle.signal.plot_fourier(start_index=0, end_index=1000)"
   ]
  },
  {
   "cell_type": "code",
   "execution_count": null,
   "metadata": {},
   "outputs": [],
   "source": [
    "CARRIER_FREQUENCY = 100_000  # Hertz\n",
    "CARRIER_AMPLITUDE = 1\n",
    "CARRIER_PHASE = 0  # degrees\n",
    "\n",
    "train_carrier = CosenoidSignal(CARRIER_FREQUENCY,\n",
    "                               train_whistle.signal.sample_rate,\n",
    "                               train_whistle.signal.length,\n",
    "                               amplitude=CARRIER_AMPLITUDE,\n",
    "                               phase=CARRIER_PHASE)\n",
    "train_carrier.signal.plot_data(start_index=0, end_index=100)\n",
    "train_carrier.signal.plot_fourier(start_index=0, end_index=-1)"
   ]
  },
  {
   "attachments": {},
   "cell_type": "markdown",
   "metadata": {},
   "source": [
    "Para demodulação não-coerente, temos que ter $1 + k_a m(t) \\geq 0, \\forall t$. Como o valor mínimo de $m(t)$ é negativo, teremos o valor máximo de $k_a$ tal que $\\displaystyle \\max{\\left( k_{a} \\right)} = - \\frac{1}{\\min{\\left[ m(t) \\right]}}$."
   ]
  },
  {
   "cell_type": "code",
   "execution_count": null,
   "metadata": {},
   "outputs": [],
   "source": [
    "COHERENT_FILTER_ORDER = 7\n",
    "COHERENT_CUTOFF_FREQUENCY = 15_000\n",
    "\n",
    "modulated_whistle = DSBSCModulatedSignal(\n",
    "    train_whistle, train_carrier,\n",
    "    COHERENT_FILTER_ORDER, COHERENT_CUTOFF_FREQUENCY\n",
    "    )"
   ]
  },
  {
   "cell_type": "code",
   "execution_count": null,
   "metadata": {},
   "outputs": [],
   "source": [
    "modulated_whistle.modulated.plot_data(start_index=0, end_index=-1)\n",
    "modulated_whistle.modulated.plot_fourier(start_index=0, end_index=-1)"
   ]
  },
  {
   "attachments": {},
   "cell_type": "markdown",
   "metadata": {},
   "source": [
    "Demodulação coerente:"
   ]
  },
  {
   "cell_type": "code",
   "execution_count": null,
   "metadata": {},
   "outputs": [],
   "source": [
    "modulated_whistle.demodulated.plot_data(start_index=0, end_index=-1)\n",
    "modulated_whistle.demodulated.plot_fourier(start_index=0, end_index=1000)"
   ]
  },
  {
   "cell_type": "code",
   "execution_count": null,
   "metadata": {},
   "outputs": [],
   "source": [
    "import IPython.display as IPydisp\n",
    "\n",
    "data_array = modulated_whistle.demodulated.data_array\n",
    "sample_rate = modulated_whistle.modulation.sample_rate\n",
    "IPydisp.Audio(data_array, rate=sample_rate)"
   ]
  }
 ],
 "metadata": {
  "kernelspec": {
   "display_name": "my_studies",
   "language": "python",
   "name": "python3"
  },
  "language_info": {
   "codemirror_mode": {
    "name": "ipython",
    "version": 3
   },
   "file_extension": ".py",
   "mimetype": "text/x-python",
   "name": "python",
   "nbconvert_exporter": "python",
   "pygments_lexer": "ipython3",
   "version": "3.10.3"
  },
  "orig_nbformat": 4
 },
 "nbformat": 4,
 "nbformat_minor": 2
}
