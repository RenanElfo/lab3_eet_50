{
 "cells": [
  {
   "attachments": {},
   "cell_type": "markdown",
   "metadata": {},
   "source": [
    "# Imports:"
   ]
  },
  {
   "cell_type": "code",
   "execution_count": null,
   "metadata": {},
   "outputs": [],
   "source": [
    "from pathlib import Path\n",
    "\n",
    "from common import CosenoidSignal, Audio\n",
    "from dsb_modulation import ModulatedSignal as DSBModulation\n",
    "\n",
    "AUDIO_PATH = Path(r'toy_train_whistle.wav')"
   ]
  },
  {
   "attachments": {},
   "cell_type": "markdown",
   "metadata": {},
   "source": [
    "# 6) Aplicação da modulação AM-SSB acima para um sinal de áudio:"
   ]
  }
 ],
 "metadata": {
  "kernelspec": {
   "display_name": "my_studies",
   "language": "python",
   "name": "python3"
  },
  "language_info": {
   "name": "python",
   "version": "3.10.3"
  },
  "orig_nbformat": 4
 },
 "nbformat": 4,
 "nbformat_minor": 2
}
