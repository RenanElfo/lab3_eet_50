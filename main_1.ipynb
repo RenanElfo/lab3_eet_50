{
 "cells": [
  {
   "attachments": {},
   "cell_type": "markdown",
   "metadata": {},
   "source": [
    "# Imports:"
   ]
  },
  {
   "cell_type": "code",
   "execution_count": null,
   "metadata": {},
   "outputs": [],
   "source": [
    "from common import CosenoidSignal\n",
    "from modulations import DSBModulatedSignal"
   ]
  },
  {
   "attachments": {},
   "cell_type": "markdown",
   "metadata": {},
   "source": [
    "# 1) Modulação AM-DSB de um sinal cossenoidal $m(t) = A_m \\cos{\\left( 2 \\pi f_m t + \\phi_m \\right)}$:"
   ]
  },
  {
   "attachments": {},
   "cell_type": "markdown",
   "metadata": {},
   "source": [
    "Sinal cossenoindal no tempo e na frequência:"
   ]
  },
  {
   "cell_type": "code",
   "execution_count": null,
   "metadata": {},
   "outputs": [],
   "source": [
    "COSENOID_FREQUENCY = 30  # Hertz\n",
    "SAMPLE_RATE = 100_000  # Hertz\n",
    "SAMPLE_LENGTH = 0.2  # seconds\n",
    "COSENOID_AMPLITUDE = 1\n",
    "COSENOID_PHASE = 0  # degrees\n",
    "\n",
    "cosenoid_signal = CosenoidSignal(COSENOID_FREQUENCY, SAMPLE_RATE, SAMPLE_LENGTH,\n",
    "                                 amplitude=COSENOID_AMPLITUDE, phase=COSENOID_PHASE)\n",
    "cosenoid_signal.signal.plot_both(\n",
    "    'Cossenoide de frequência 30 Hz',\n",
    "    time_start=0, time_end=-1, frequency_start=0, frequency_end=20\n",
    "    )"
   ]
  },
  {
   "attachments": {},
   "cell_type": "markdown",
   "metadata": {},
   "source": [
    "Portadora $c(t) = A_c \\cos{\\left( 2 \\pi f_c t + \\phi_c \\right)}$:"
   ]
  },
  {
   "cell_type": "code",
   "execution_count": null,
   "metadata": {},
   "outputs": [],
   "source": [
    "CARRIER_FREQUENCY = 200  # Hertz\n",
    "CARRIER_AMPLITUDE = 1\n",
    "CARRIER_PHASE = 0  # degrees\n",
    "\n",
    "carrier = CosenoidSignal(CARRIER_FREQUENCY, SAMPLE_RATE, SAMPLE_LENGTH,\n",
    "                         amplitude=CARRIER_AMPLITUDE, phase=CARRIER_PHASE)\n",
    "carrier.signal.plot_both(\n",
    "    'Portadora da cossenoide com frequência 200 Hz',\n",
    "    time_start=0, time_end=-1, frequency_start=30, frequency_end=50\n",
    "    )"
   ]
  },
  {
   "attachments": {},
   "cell_type": "markdown",
   "metadata": {},
   "source": [
    "Sinal modulado $s(t) = A_c \\left[ 1 + k_a A_m \\cos{\\left( 2 \\pi f_m t + \\phi_m \\right)} \\right] \\cos{\\left( 2 \\pi f_c t \\right)}$:"
   ]
  },
  {
   "cell_type": "code",
   "execution_count": null,
   "metadata": {},
   "outputs": [],
   "source": [
    "COHERENT_FILTER_ORDER = 7\n",
    "COHERENT_CUTOFF_FREQUENCY = 100\n",
    "\n",
    "k_a_max = - 1 / cosenoid_signal.signal.data_array.min()\n",
    "k_a = 0.8 * k_a_max\n",
    "dsb_modulated_signal = DSBModulatedSignal(\n",
    "    cosenoid_signal, carrier, k_a,\n",
    "    COHERENT_FILTER_ORDER, COHERENT_CUTOFF_FREQUENCY\n",
    "    )\n",
    "dsb_modulated_signal.modulated.plot_both(\n",
    "    'Sinal cossenoidal modulado (AM-DSB)',\n",
    "    time_start=0, time_end=-1, frequency_start=30, frequency_end=50\n",
    "    )"
   ]
  },
  {
   "attachments": {},
   "cell_type": "markdown",
   "metadata": {},
   "source": [
    "Demodulação:"
   ]
  },
  {
   "cell_type": "code",
   "execution_count": null,
   "metadata": {},
   "outputs": [],
   "source": [
    "dsb_modulated_signal.demodulated['coherent'].plot_both(\n",
    "    'Sinal cossenoidal recuperado pela demodulação coerente (AM-DSB)',\n",
    "    time_start=0, time_end=-1, frequency_start=0, frequency_end=30\n",
    ")\n",
    "dsb_modulated_signal.demodulated['noncoherent'].plot_both(\n",
    "    'Sinal cossenoidal recuperado pela demodulação não coerente (AM-DSB)',\n",
    "    time_start=0, time_end=-1, frequency_start=0, frequency_end=30\n",
    ")"
   ]
  }
 ],
 "metadata": {
  "kernelspec": {
   "display_name": "Python 3",
   "language": "python",
   "name": "python3"
  },
  "language_info": {
   "codemirror_mode": {
    "name": "ipython",
    "version": 3
   },
   "file_extension": ".py",
   "mimetype": "text/x-python",
   "name": "python",
   "nbconvert_exporter": "python",
   "pygments_lexer": "ipython3",
   "version": "3.10.3"
  },
  "orig_nbformat": 4
 },
 "nbformat": 4,
 "nbformat_minor": 2
}
